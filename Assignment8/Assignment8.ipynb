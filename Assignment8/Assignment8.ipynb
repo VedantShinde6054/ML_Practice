{
 "cells": [
  {
   "cell_type": "code",
   "execution_count": null,
   "id": "65da2e4d",
   "metadata": {},
   "outputs": [],
   "source": [
    "#Assignment No :- 8\n",
    "# Name :- Vedant Jalindar Shinde\n",
    "# Roll No :- 129\n",
    "# Batch :- T3 (B)\n",
    "# PRN :- UIT22M1120"
   ]
  },
  {
   "cell_type": "code",
   "execution_count": null,
   "id": "ded957c0",
   "metadata": {},
   "outputs": [],
   "source": [
    "\n"
   ]
  },
  {
   "cell_type": "code",
   "execution_count": null,
   "id": "0f3fd783",
   "metadata": {},
   "outputs": [],
   "source": []
  }
 ],
 "metadata": {
  "kernelspec": {
   "display_name": "Python 3",
   "language": "python",
   "name": "python3"
  },
  "language_info": {
   "codemirror_mode": {
    "name": "ipython",
    "version": 3
   },
   "file_extension": ".py",
   "mimetype": "text/x-python",
   "name": "python",
   "nbconvert_exporter": "python",
   "pygments_lexer": "ipython3",
   "version": "3.12.8"
  }
 },
 "nbformat": 4,
 "nbformat_minor": 5
}
